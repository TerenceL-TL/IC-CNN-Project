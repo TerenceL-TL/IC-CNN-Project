{
 "cells": [
  {
   "cell_type": "markdown",
   "metadata": {},
   "source": [
    "# CNN-based Brain Tumour Segmentation Network\n",
    "## Import packages\n",
    "Please make sure you have all the required packages installed. "
   ]
  },
  {
   "cell_type": "code",
   "execution_count": 3,
   "metadata": {},
   "outputs": [
    {
     "name": "stderr",
     "output_type": "stream",
     "text": [
      "2024-07-10 09:03:53.617158: I tensorflow/core/platform/cpu_feature_guard.cc:193] This TensorFlow binary is optimized with oneAPI Deep Neural Network Library (oneDNN) to use the following CPU instructions in performance-critical operations:  SSE4.1 SSE4.2 AVX AVX2 AVX_VNNI FMA\n",
      "To enable them in other operations, rebuild TensorFlow with the appropriate compiler flags.\n",
      "2024-07-10 09:03:53.733101: I tensorflow/core/util/port.cc:104] oneDNN custom operations are on. You may see slightly different numerical results due to floating-point round-off errors from different computation orders. To turn them off, set the environment variable `TF_ENABLE_ONEDNN_OPTS=0`.\n"
     ]
    }
   ],
   "source": [
    "import os\n",
    "import numpy as np\n",
    "import nibabel as nib\n",
    "import matplotlib.pyplot as plt\n",
    "import tensorflow as tf\n",
    "import cv2\n",
    "import ipywidgets as widgets\n",
    "\n",
    "from matplotlib.widgets import Slider\n",
    "from ipywidgets import interact, interactive, fixed, interact_manual"
   ]
  },
  {
   "cell_type": "markdown",
   "metadata": {},
   "source": [
    "## Visualise MRI Volume Slices and Segmentation Maps\n",
    "Each MRI image contains information about a three-dimensional (3D) volume of space. An MRI image is composed of a number of voxels, which is like pixels in 2D images. Here try to visualise the axial plane (usually has a higher resolution) of some of the volumes and the corresponding segmentation maps."
   ]
  },
  {
   "cell_type": "code",
   "execution_count": 8,
   "metadata": {},
   "outputs": [
    {
     "data": {
      "application/vnd.jupyter.widget-view+json": {
       "model_id": "38ee0cadf3c146b4950078972b0d7e09",
       "version_major": 2,
       "version_minor": 0
      },
      "text/plain": [
       "Dropdown(description='Data Select', options=('Nothing Selected', '001', '002', '003', '004', '005', '006', '00…"
      ]
     },
     "metadata": {},
     "output_type": "display_data"
    }
   ],
   "source": [
    "# Data Visualization\n",
    "# Choose set on the selection bar, then use the trackbar for moving up and down\n",
    "\n",
    "# messages\n",
    "no_selection_hint = \"Nothing Selected\"\n",
    "\n",
    "# path related\n",
    "img_path = 'dataset_segmentation/'\n",
    "train_path = os.path.join(img_path, \"train\")\n",
    "\n",
    "\n",
    "# global variables \n",
    "view_pla_path = None\n",
    "view_seg_path = None\n",
    "view_pla_load = None\n",
    "view_seg_load = None\n",
    "slices = None\n",
    "sliders = None\n",
    "\n",
    "def update_slice(val):\n",
    "    global view_pla_load\n",
    "    global view_seg_load\n",
    "    imgfla = view_pla_load[:,:,val]\n",
    "    imgseg = view_seg_load[:,:,val]\n",
    "    \n",
    "    plt.figure(figsize=(12, 6))\n",
    "    plt.subplot(1,2,1)\n",
    "    plt.imshow(imgfla, cmap='gray')\n",
    "    plt.title('FLA')\n",
    "\n",
    "    plt.subplot(1,2,2)\n",
    "    plt.imshow(imgseg, cmap='gray')\n",
    "    plt.title('SEG')\n",
    "    plt.show()\n",
    "    return()\n",
    "\n",
    "def update_set(strval):\n",
    "    global view_pla_path \n",
    "    global view_seg_path\n",
    "    global view_pla_load\n",
    "    global view_seg_load\n",
    "    global slices\n",
    "    global sliders\n",
    "    try:\n",
    "        if sliders is not None:\n",
    "            sliders.close()\n",
    "    except NameError:\n",
    "        pass\n",
    "    if strval['type'] == 'change' and strval['name'] == 'value':\n",
    "        set_str = strval['new']\n",
    "    # print(set_str)\n",
    "    if set_str == no_selection_hint:\n",
    "        return()\n",
    "    view_pla_path = os.path.join(train_path, set_str, set_str + \"_fla.nii.gz\")\n",
    "    view_seg_path = os.path.join(train_path, set_str, set_str + \"_seg.nii.gz\")\n",
    "\n",
    "    view_pla_load = nib.load(view_pla_path).get_fdata()\n",
    "    view_seg_load = nib.load(view_seg_path).get_fdata()\n",
    "\n",
    "    slices = view_pla_load.shape\n",
    "    sliders = interactive(update_slice, val=widgets.IntSlider(value=0, min=0, max=slices[2]-1, step=1) )\n",
    "    display(sliders)\n",
    "    return()\n",
    "\n",
    "dataset_subfolder = []\n",
    "\n",
    "for CLASS in os.listdir(train_path):\n",
    "    if not CLASS.startswith('.'):\n",
    "        dataset_subfolder.append(CLASS)\n",
    "\n",
    "dataset_subfolder.sort()\n",
    "dataset_subfolder.insert(0, no_selection_hint)\n",
    "\n",
    "dropdown = widgets.Dropdown(options=dataset_subfolder, value=no_selection_hint, description='Data Select')\n",
    "\n",
    "dropdown.observe(update_set, names='value')\n",
    "display(dropdown)\n",
    "\n",
    "\n",
    "\n"
   ]
  },
  {
   "cell_type": "markdown",
   "metadata": {},
   "source": [
    "## Data preprocessing (Optional)\n",
    "\n",
    "Images in the original dataset are usually in different sizes, so sometimes we need to resize and normalise (z-score is commonly used in preprocessing the MRI images) them to fit the CNN model. Depending on the images you choose to use for training your model, some other preprocessing methods. If preprocessing methods like cropping is applied, remember to convert the segmentation result back to its original size. "
   ]
  },
  {
   "cell_type": "code",
   "execution_count": null,
   "metadata": {},
   "outputs": [],
   "source": []
  },
  {
   "cell_type": "markdown",
   "metadata": {},
   "source": [
    "## Train-time data augmentation\n",
    "Generalizability is crucial to a deep learning model and it refers to the performance difference of a model when evaluated on the seen data (training data) versus the unseen data (testing data). Improving the generalizability of these models has always been a difficult challenge. \n",
    "\n",
    "**Data Augmentation** is an effective way of improving the generalizability, because the augmented data will represent a more comprehensive set of possible data samples and minimizing the distance between the training and validation/testing sets.\n",
    "\n",
    "There are many data augmentation methods you can choose in this projects including rotation, shifting, flipping, etc.\n",
    "\n",
    "You are encouraged to try different augmentation method to get the best segmentation result.\n",
    "\n",
    "\n",
    "## Get the data generator ready"
   ]
  },
  {
   "cell_type": "code",
   "execution_count": null,
   "metadata": {},
   "outputs": [],
   "source": []
  },
  {
   "cell_type": "markdown",
   "metadata": {},
   "source": [
    "## Define a metric for the performance of the model\n",
    "Dice score is used here to evaluate the performance of your model.\n",
    "More details about the Dice score and other metrics can be found at \n",
    "https://towardsdatascience.com/metrics-to-evaluate-your-semantic-segmentation-model-6bcb99639aa2. Dice score can be also used as the loss function for training your model."
   ]
  },
  {
   "cell_type": "code",
   "execution_count": null,
   "metadata": {},
   "outputs": [],
   "source": []
  },
  {
   "cell_type": "markdown",
   "metadata": {},
   "source": [
    "## Build your own model here\n",
    "The U-Net (https://link.springer.com/chapter/10.1007/978-3-319-24574-4_28) structure is widely used for the medical image segmentation task. You can build your own model or modify the UNet by changing the hyperparameters for our task. If you choose to use Keras, more information about the Keras layers including Conv2D, MaxPooling and Dropout can be found at https://keras.io/api/layers/."
   ]
  },
  {
   "cell_type": "code",
   "execution_count": null,
   "metadata": {},
   "outputs": [],
   "source": []
  },
  {
   "cell_type": "markdown",
   "metadata": {},
   "source": [
    "## Train your model here\n",
    "Once you defined the model and data generator, you can start training your model."
   ]
  },
  {
   "cell_type": "code",
   "execution_count": null,
   "metadata": {},
   "outputs": [],
   "source": []
  },
  {
   "cell_type": "markdown",
   "metadata": {},
   "source": [
    "## Save the model\n",
    "Once your model is trained, remember to save it for testing."
   ]
  },
  {
   "cell_type": "code",
   "execution_count": null,
   "metadata": {},
   "outputs": [],
   "source": []
  },
  {
   "cell_type": "markdown",
   "metadata": {},
   "source": [
    "## Run the model on the test set\n",
    "After your last Q&A session, you will be given the test set. Run your model on the test set to get the segmentation results and submit your results in a .zip file. If the MRI image is named '100_fla.nii.gz', save your segmentation result as '100_seg.nii.gz'. "
   ]
  },
  {
   "cell_type": "code",
   "execution_count": null,
   "metadata": {},
   "outputs": [],
   "source": []
  }
 ],
 "metadata": {
  "kernelspec": {
   "display_name": "Python 3 (ipykernel)",
   "language": "python",
   "name": "python3"
  },
  "language_info": {
   "codemirror_mode": {
    "name": "ipython",
    "version": 3
   },
   "file_extension": ".py",
   "mimetype": "text/x-python",
   "name": "python",
   "nbconvert_exporter": "python",
   "pygments_lexer": "ipython3",
   "version": "3.9.19"
  }
 },
 "nbformat": 4,
 "nbformat_minor": 2
}
